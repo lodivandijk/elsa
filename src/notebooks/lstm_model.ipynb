{
 "cells": [
  {
   "cell_type": "code",
   "id": "initial_id",
   "metadata": {
    "collapsed": true,
    "ExecuteTime": {
     "end_time": "2025-02-22T14:19:59.393994Z",
     "start_time": "2025-02-22T14:19:59.006665Z"
    }
   },
   "source": [
    "import src.service.get_data as av\n",
    "import src.model.SplitData as sd\n",
    "import src.model.WindowGenerator as wg"
   ],
   "outputs": [],
   "execution_count": 1
  },
  {
   "metadata": {
    "ExecuteTime": {
     "end_time": "2025-02-22T14:20:00.219789Z",
     "start_time": "2025-02-22T14:19:59.400463Z"
    }
   },
   "cell_type": "code",
   "source": [
    "API_KEY = \"trial\"\n",
    "alpha_vantage = av.AlphaVantageAPI(API_KEY)\n",
    "df = alpha_vantage.get_weekly_stock_prices(\"AAPL\")"
   ],
   "id": "a29be1d5cdbbb8a0",
   "outputs": [],
   "execution_count": 2
  },
  {
   "metadata": {
    "ExecuteTime": {
     "end_time": "2025-02-22T14:20:00.354194Z",
     "start_time": "2025-02-22T14:20:00.345457Z"
    }
   },
   "cell_type": "code",
   "source": [
    "split_data = sd.SplitData(df)\n",
    "split_data.train_df"
   ],
   "id": "c343d101e5f7e401",
   "outputs": [
    {
     "data": {
      "text/plain": [
       "                open      high       low     close    volume\n",
       "1999-11-12 -0.474965 -0.436200 -0.461892 -0.459610 -0.387640\n",
       "1999-11-19 -0.463953 -0.453300 -0.454010 -0.448911 -0.440461\n",
       "1999-11-26 -0.451410 -0.448997 -0.451363 -0.433509 -0.457769\n",
       "1999-12-03 -0.436689 -0.333886 -0.422784 -0.316291 -0.377702\n",
       "1999-12-10 -0.317089 -0.319884 -0.388188 -0.386833 -0.390369\n",
       "...              ...       ...       ...       ...       ...\n",
       "2017-06-16 -0.133478 -0.150604 -0.128269 -0.155983  0.449826\n",
       "2017-06-23 -0.145727 -0.152555 -0.119484 -0.132410  0.032564\n",
       "2017-06-30 -0.125057 -0.146128 -0.127787 -0.145696  0.048118\n",
       "2017-07-07 -0.138543 -0.163228 -0.127005 -0.144755 -0.163835\n",
       "2017-07-14 -0.143077 -0.140103 -0.121229 -0.116185 -0.028348\n",
       "\n",
       "[923 rows x 5 columns]"
      ],
      "text/html": [
       "<div>\n",
       "<style scoped>\n",
       "    .dataframe tbody tr th:only-of-type {\n",
       "        vertical-align: middle;\n",
       "    }\n",
       "\n",
       "    .dataframe tbody tr th {\n",
       "        vertical-align: top;\n",
       "    }\n",
       "\n",
       "    .dataframe thead th {\n",
       "        text-align: right;\n",
       "    }\n",
       "</style>\n",
       "<table border=\"1\" class=\"dataframe\">\n",
       "  <thead>\n",
       "    <tr style=\"text-align: right;\">\n",
       "      <th></th>\n",
       "      <th>open</th>\n",
       "      <th>high</th>\n",
       "      <th>low</th>\n",
       "      <th>close</th>\n",
       "      <th>volume</th>\n",
       "    </tr>\n",
       "  </thead>\n",
       "  <tbody>\n",
       "    <tr>\n",
       "      <th>1999-11-12</th>\n",
       "      <td>-0.474965</td>\n",
       "      <td>-0.436200</td>\n",
       "      <td>-0.461892</td>\n",
       "      <td>-0.459610</td>\n",
       "      <td>-0.387640</td>\n",
       "    </tr>\n",
       "    <tr>\n",
       "      <th>1999-11-19</th>\n",
       "      <td>-0.463953</td>\n",
       "      <td>-0.453300</td>\n",
       "      <td>-0.454010</td>\n",
       "      <td>-0.448911</td>\n",
       "      <td>-0.440461</td>\n",
       "    </tr>\n",
       "    <tr>\n",
       "      <th>1999-11-26</th>\n",
       "      <td>-0.451410</td>\n",
       "      <td>-0.448997</td>\n",
       "      <td>-0.451363</td>\n",
       "      <td>-0.433509</td>\n",
       "      <td>-0.457769</td>\n",
       "    </tr>\n",
       "    <tr>\n",
       "      <th>1999-12-03</th>\n",
       "      <td>-0.436689</td>\n",
       "      <td>-0.333886</td>\n",
       "      <td>-0.422784</td>\n",
       "      <td>-0.316291</td>\n",
       "      <td>-0.377702</td>\n",
       "    </tr>\n",
       "    <tr>\n",
       "      <th>1999-12-10</th>\n",
       "      <td>-0.317089</td>\n",
       "      <td>-0.319884</td>\n",
       "      <td>-0.388188</td>\n",
       "      <td>-0.386833</td>\n",
       "      <td>-0.390369</td>\n",
       "    </tr>\n",
       "    <tr>\n",
       "      <th>...</th>\n",
       "      <td>...</td>\n",
       "      <td>...</td>\n",
       "      <td>...</td>\n",
       "      <td>...</td>\n",
       "      <td>...</td>\n",
       "    </tr>\n",
       "    <tr>\n",
       "      <th>2017-06-16</th>\n",
       "      <td>-0.133478</td>\n",
       "      <td>-0.150604</td>\n",
       "      <td>-0.128269</td>\n",
       "      <td>-0.155983</td>\n",
       "      <td>0.449826</td>\n",
       "    </tr>\n",
       "    <tr>\n",
       "      <th>2017-06-23</th>\n",
       "      <td>-0.145727</td>\n",
       "      <td>-0.152555</td>\n",
       "      <td>-0.119484</td>\n",
       "      <td>-0.132410</td>\n",
       "      <td>0.032564</td>\n",
       "    </tr>\n",
       "    <tr>\n",
       "      <th>2017-06-30</th>\n",
       "      <td>-0.125057</td>\n",
       "      <td>-0.146128</td>\n",
       "      <td>-0.127787</td>\n",
       "      <td>-0.145696</td>\n",
       "      <td>0.048118</td>\n",
       "    </tr>\n",
       "    <tr>\n",
       "      <th>2017-07-07</th>\n",
       "      <td>-0.138543</td>\n",
       "      <td>-0.163228</td>\n",
       "      <td>-0.127005</td>\n",
       "      <td>-0.144755</td>\n",
       "      <td>-0.163835</td>\n",
       "    </tr>\n",
       "    <tr>\n",
       "      <th>2017-07-14</th>\n",
       "      <td>-0.143077</td>\n",
       "      <td>-0.140103</td>\n",
       "      <td>-0.121229</td>\n",
       "      <td>-0.116185</td>\n",
       "      <td>-0.028348</td>\n",
       "    </tr>\n",
       "  </tbody>\n",
       "</table>\n",
       "<p>923 rows × 5 columns</p>\n",
       "</div>"
      ]
     },
     "execution_count": 3,
     "metadata": {},
     "output_type": "execute_result"
    }
   ],
   "execution_count": 3
  },
  {
   "metadata": {
    "ExecuteTime": {
     "end_time": "2025-02-22T14:20:00.385514Z",
     "start_time": "2025-02-22T14:20:00.380411Z"
    }
   },
   "cell_type": "code",
   "source": "df.tail()",
   "id": "86114ff24d7700e7",
   "outputs": [
    {
     "data": {
      "text/plain": [
       "              open    high     low   close       volume\n",
       "2025-01-24  224.00  227.03  219.38  222.78  277129596.0\n",
       "2025-01-31  224.02  247.19  223.98  236.00  372790494.0\n",
       "2025-02-07  229.99  234.00  225.70  227.63  227428164.0\n",
       "2025-02-14  229.57  245.55  227.20  244.60  226587580.0\n",
       "2025-02-21  244.15  248.69  241.84  245.55  166541044.0"
      ],
      "text/html": [
       "<div>\n",
       "<style scoped>\n",
       "    .dataframe tbody tr th:only-of-type {\n",
       "        vertical-align: middle;\n",
       "    }\n",
       "\n",
       "    .dataframe tbody tr th {\n",
       "        vertical-align: top;\n",
       "    }\n",
       "\n",
       "    .dataframe thead th {\n",
       "        text-align: right;\n",
       "    }\n",
       "</style>\n",
       "<table border=\"1\" class=\"dataframe\">\n",
       "  <thead>\n",
       "    <tr style=\"text-align: right;\">\n",
       "      <th></th>\n",
       "      <th>open</th>\n",
       "      <th>high</th>\n",
       "      <th>low</th>\n",
       "      <th>close</th>\n",
       "      <th>volume</th>\n",
       "    </tr>\n",
       "  </thead>\n",
       "  <tbody>\n",
       "    <tr>\n",
       "      <th>2025-01-24</th>\n",
       "      <td>224.00</td>\n",
       "      <td>227.03</td>\n",
       "      <td>219.38</td>\n",
       "      <td>222.78</td>\n",
       "      <td>277129596.0</td>\n",
       "    </tr>\n",
       "    <tr>\n",
       "      <th>2025-01-31</th>\n",
       "      <td>224.02</td>\n",
       "      <td>247.19</td>\n",
       "      <td>223.98</td>\n",
       "      <td>236.00</td>\n",
       "      <td>372790494.0</td>\n",
       "    </tr>\n",
       "    <tr>\n",
       "      <th>2025-02-07</th>\n",
       "      <td>229.99</td>\n",
       "      <td>234.00</td>\n",
       "      <td>225.70</td>\n",
       "      <td>227.63</td>\n",
       "      <td>227428164.0</td>\n",
       "    </tr>\n",
       "    <tr>\n",
       "      <th>2025-02-14</th>\n",
       "      <td>229.57</td>\n",
       "      <td>245.55</td>\n",
       "      <td>227.20</td>\n",
       "      <td>244.60</td>\n",
       "      <td>226587580.0</td>\n",
       "    </tr>\n",
       "    <tr>\n",
       "      <th>2025-02-21</th>\n",
       "      <td>244.15</td>\n",
       "      <td>248.69</td>\n",
       "      <td>241.84</td>\n",
       "      <td>245.55</td>\n",
       "      <td>166541044.0</td>\n",
       "    </tr>\n",
       "  </tbody>\n",
       "</table>\n",
       "</div>"
      ]
     },
     "execution_count": 4,
     "metadata": {},
     "output_type": "execute_result"
    }
   ],
   "execution_count": 4
  },
  {
   "metadata": {
    "ExecuteTime": {
     "end_time": "2025-02-22T14:22:03.058108Z",
     "start_time": "2025-02-22T14:22:03.045495Z"
    }
   },
   "cell_type": "code",
   "source": [
    "window = wg.WindowGenerator(input_width=120, label_width=1, shift=1,split_data=split_data, label_columns=['close'])\n",
    "window"
   ],
   "id": "909fbca3464e3f5",
   "outputs": [
    {
     "data": {
      "text/plain": [
       "Total window size: 121\n",
       "Input indices: [  0   1   2   3   4   5   6   7   8   9  10  11  12  13  14  15  16  17\n",
       "  18  19  20  21  22  23  24  25  26  27  28  29  30  31  32  33  34  35\n",
       "  36  37  38  39  40  41  42  43  44  45  46  47  48  49  50  51  52  53\n",
       "  54  55  56  57  58  59  60  61  62  63  64  65  66  67  68  69  70  71\n",
       "  72  73  74  75  76  77  78  79  80  81  82  83  84  85  86  87  88  89\n",
       "  90  91  92  93  94  95  96  97  98  99 100 101 102 103 104 105 106 107\n",
       " 108 109 110 111 112 113 114 115 116 117 118 119]\n",
       "Label indices: [120]\n",
       "Label column name(s): ['close']"
      ]
     },
     "execution_count": 6,
     "metadata": {},
     "output_type": "execute_result"
    }
   ],
   "execution_count": 6
  },
  {
   "metadata": {},
   "cell_type": "code",
   "outputs": [],
   "execution_count": null,
   "source": "",
   "id": "b7c51974700be488"
  }
 ],
 "metadata": {
  "kernelspec": {
   "display_name": "Python 3",
   "language": "python",
   "name": "python3"
  },
  "language_info": {
   "codemirror_mode": {
    "name": "ipython",
    "version": 2
   },
   "file_extension": ".py",
   "mimetype": "text/x-python",
   "name": "python",
   "nbconvert_exporter": "python",
   "pygments_lexer": "ipython2",
   "version": "2.7.6"
  }
 },
 "nbformat": 4,
 "nbformat_minor": 5
}
